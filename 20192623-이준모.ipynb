{
  "nbformat": 4,
  "nbformat_minor": 0,
  "metadata": {
    "colab": {
      "name": "20192623-이준모.ipynb",
      "provenance": [],
      "collapsed_sections": [
        "z95LGBsG9W4e",
        "n9tgyhWFBB4R"
      ],
      "authorship_tag": "ABX9TyNFfca7xXM+itfqfvTNKGeR"
    },
    "kernelspec": {
      "name": "python3",
      "display_name": "Python 3"
    },
    "accelerator": "GPU"
  },
  "cells": [
    {
      "cell_type": "markdown",
      "metadata": {
        "id": "z95LGBsG9W4e"
      },
      "source": [
        "\r\n",
        "\r\n",
        "---\r\n",
        "\r\n",
        "# **회귀 문제 : 보스턴 주택 가격 예측**\r\n",
        "\r\n",
        "---\r\n",
        "\r\n"
      ]
    },
    {
      "cell_type": "code",
      "metadata": {
        "colab": {
          "base_uri": "https://localhost:8080/"
        },
        "id": "5HWGZQTa9vX2",
        "outputId": "79053e96-7e17-4e5f-c738-09a291de49bb"
      },
      "source": [
        "import tensorflow as tf #텐서플로 추가\r\n",
        "from keras.datasets import boston_housing #데이터 가져오기\r\n",
        "\r\n",
        "(train_data, train_targets), (test_data, test_targets) = boston_housing.load_data() #보스턴 주택 가격의 테스트 값과 훈련값"
      ],
      "execution_count": null,
      "outputs": [
        {
          "output_type": "stream",
          "text": [
            "Downloading data from https://storage.googleapis.com/tensorflow/tf-keras-datasets/boston_housing.npz\n",
            "57344/57026 [==============================] - 0s 0us/step\n"
          ],
          "name": "stdout"
        }
      ]
    },
    {
      "cell_type": "code",
      "metadata": {
        "colab": {
          "base_uri": "https://localhost:8080/"
        },
        "id": "bWN0J0Sk-HaT",
        "outputId": "88ae2d2b-e4a8-47f2-9b39-285468d299f8"
      },
      "source": [
        "train_data.shape #학습 데이터 갯수 404개"
      ],
      "execution_count": null,
      "outputs": [
        {
          "output_type": "execute_result",
          "data": {
            "text/plain": [
              "(404, 13)"
            ]
          },
          "metadata": {
            "tags": []
          },
          "execution_count": 2
        }
      ]
    },
    {
      "cell_type": "code",
      "metadata": {
        "colab": {
          "base_uri": "https://localhost:8080/"
        },
        "id": "bNYUMZPy-Yhe",
        "outputId": "122663a6-8acc-4fd5-aae3-970e5569de34"
      },
      "source": [
        "test_data.shape #테스트 데이터 갯수 102개"
      ],
      "execution_count": null,
      "outputs": [
        {
          "output_type": "execute_result",
          "data": {
            "text/plain": [
              "(102, 13)"
            ]
          },
          "metadata": {
            "tags": []
          },
          "execution_count": 3
        }
      ]
    },
    {
      "cell_type": "code",
      "metadata": {
        "id": "8iOZh6a7BFdk"
      },
      "source": [
        "#학습 데이터와 테스트 데이터 정규화 (각 데이터 값 - 데이터 값 평균값) / 데이터 표준편차\r\n",
        "data_mean = train_data.mean(axis = 0)\r\n",
        "data_std = train_data.std(axis=0)\r\n",
        "train_data -= data_mean\r\n",
        "train_data /= data_std\r\n",
        "test_data -= data_mean\r\n",
        "test_data /= data_std"
      ],
      "execution_count": null,
      "outputs": []
    },
    {
      "cell_type": "code",
      "metadata": {
        "id": "SLKIHfWGB_DS"
      },
      "source": [
        "targets_mean = train_targets.mean(axis = 0)\r\n",
        "targets_std = train_targets.std(axis=0)\r\n",
        "train_targets -= targets_mean\r\n",
        "train_targets /= targets_std\r\n",
        "test_targets -= targets_mean\r\n",
        "test_targets /= targets_std"
      ],
      "execution_count": null,
      "outputs": []
    },
    {
      "cell_type": "code",
      "metadata": {
        "colab": {
          "base_uri": "https://localhost:8080/"
        },
        "id": "CBcws3C6C7D0",
        "outputId": "650597ea-8a2e-4dbc-d832-aa722deae21a"
      },
      "source": [
        "#모델과 레이어 추가\r\n",
        "from keras import models\r\n",
        "from keras import layers\r\n",
        "\r\n",
        "#모델 구성 은닉층 6개 출력층 1개\r\n",
        "model = tf.keras.models.Sequential([\r\n",
        "    tf.keras.layers.Dense(units=91, activation='relu', input_shape=(13,)),\r\n",
        "    tf.keras.layers.Dense(units=78, activation='relu'),\r\n",
        "    tf.keras.layers.Dense(units=52, activation='relu'),\r\n",
        "    tf.keras.layers.Dense(units=39, activation='relu'),\r\n",
        "    tf.keras.layers.Dense(units=26, activation='relu'),\r\n",
        "    tf.keras.layers.Dense(units=13, activation='relu'),\r\n",
        "    tf.keras.layers.Dense(units=1)                                     \r\n",
        "])\r\n",
        "\r\n",
        "#학습률 5프로, 손실함수 평균제곱오차\r\n",
        "model.compile(optimizer=tf.keras.optimizers.Adam(lr=0.05),loss='mse')\r\n",
        "\r\n",
        "model.summary()"
      ],
      "execution_count": null,
      "outputs": [
        {
          "output_type": "stream",
          "text": [
            "Model: \"sequential\"\n",
            "_________________________________________________________________\n",
            "Layer (type)                 Output Shape              Param #   \n",
            "=================================================================\n",
            "dense (Dense)                (None, 91)                1274      \n",
            "_________________________________________________________________\n",
            "dense_1 (Dense)              (None, 78)                7176      \n",
            "_________________________________________________________________\n",
            "dense_2 (Dense)              (None, 52)                4108      \n",
            "_________________________________________________________________\n",
            "dense_3 (Dense)              (None, 39)                2067      \n",
            "_________________________________________________________________\n",
            "dense_4 (Dense)              (None, 26)                1040      \n",
            "_________________________________________________________________\n",
            "dense_5 (Dense)              (None, 13)                351       \n",
            "_________________________________________________________________\n",
            "dense_6 (Dense)              (None, 1)                 14        \n",
            "=================================================================\n",
            "Total params: 16,030\n",
            "Trainable params: 16,030\n",
            "Non-trainable params: 0\n",
            "_________________________________________________________________\n"
          ],
          "name": "stdout"
        }
      ]
    },
    {
      "cell_type": "code",
      "metadata": {
        "colab": {
          "base_uri": "https://localhost:8080/"
        },
        "id": "-gGBCpA1H4ss",
        "outputId": "28a53db1-fbf2-4e5e-85fe-09387b56400f"
      },
      "source": [
        "#검증 데이터로 25퍼센트 활용 훈련은 100번 진행 5번 동안 손실이 줄어들지 않으면 callbacks 함수를 사용하여 훈련 중단\r\n",
        "history = model.fit(train_data, train_targets, epochs=100, batch_size=32, validation_split=0.25, callbacks=[tf.keras.callbacks.EarlyStopping(patience=5, monitor='val_loss')])"
      ],
      "execution_count": null,
      "outputs": [
        {
          "output_type": "stream",
          "text": [
            "Epoch 1/100\n",
            "10/10 [==============================] - 0s 15ms/step - loss: 1.4105 - val_loss: 0.9299\n",
            "Epoch 2/100\n",
            "10/10 [==============================] - 0s 3ms/step - loss: 0.4294 - val_loss: 0.5073\n",
            "Epoch 3/100\n",
            "10/10 [==============================] - 0s 3ms/step - loss: 0.2391 - val_loss: 0.4592\n",
            "Epoch 4/100\n",
            "10/10 [==============================] - 0s 3ms/step - loss: 0.2402 - val_loss: 0.2688\n",
            "Epoch 5/100\n",
            "10/10 [==============================] - 0s 3ms/step - loss: 0.1983 - val_loss: 0.4781\n",
            "Epoch 6/100\n",
            "10/10 [==============================] - 0s 3ms/step - loss: 0.2094 - val_loss: 0.1879\n",
            "Epoch 7/100\n",
            "10/10 [==============================] - 0s 3ms/step - loss: 0.1522 - val_loss: 0.2699\n",
            "Epoch 8/100\n",
            "10/10 [==============================] - 0s 3ms/step - loss: 0.1385 - val_loss: 0.2261\n",
            "Epoch 9/100\n",
            "10/10 [==============================] - 0s 3ms/step - loss: 0.1329 - val_loss: 0.1728\n",
            "Epoch 10/100\n",
            "10/10 [==============================] - 0s 3ms/step - loss: 0.0946 - val_loss: 0.1558\n",
            "Epoch 11/100\n",
            "10/10 [==============================] - 0s 3ms/step - loss: 0.1095 - val_loss: 0.1573\n",
            "Epoch 12/100\n",
            "10/10 [==============================] - 0s 3ms/step - loss: 0.1030 - val_loss: 0.2623\n",
            "Epoch 13/100\n",
            "10/10 [==============================] - 0s 3ms/step - loss: 0.0819 - val_loss: 0.1261\n",
            "Epoch 14/100\n",
            "10/10 [==============================] - 0s 3ms/step - loss: 0.0982 - val_loss: 0.1675\n",
            "Epoch 15/100\n",
            "10/10 [==============================] - 0s 3ms/step - loss: 0.1245 - val_loss: 0.2419\n",
            "Epoch 16/100\n",
            "10/10 [==============================] - 0s 3ms/step - loss: 0.1520 - val_loss: 0.1619\n",
            "Epoch 17/100\n",
            "10/10 [==============================] - 0s 3ms/step - loss: 0.1035 - val_loss: 0.2730\n",
            "Epoch 18/100\n",
            "10/10 [==============================] - 0s 3ms/step - loss: 0.1095 - val_loss: 0.1176\n",
            "Epoch 19/100\n",
            "10/10 [==============================] - 0s 3ms/step - loss: 0.0744 - val_loss: 0.1844\n",
            "Epoch 20/100\n",
            "10/10 [==============================] - 0s 3ms/step - loss: 0.0773 - val_loss: 0.1429\n",
            "Epoch 21/100\n",
            "10/10 [==============================] - 0s 3ms/step - loss: 0.0680 - val_loss: 0.1369\n",
            "Epoch 22/100\n",
            "10/10 [==============================] - 0s 3ms/step - loss: 0.0655 - val_loss: 0.1277\n",
            "Epoch 23/100\n",
            "10/10 [==============================] - 0s 4ms/step - loss: 0.0862 - val_loss: 0.1850\n"
          ],
          "name": "stdout"
        }
      ]
    },
    {
      "cell_type": "code",
      "metadata": {
        "colab": {
          "base_uri": "https://localhost:8080/",
          "height": 279
        },
        "id": "osX8B7rIIhqC",
        "outputId": "39e113e8-b44c-4fa4-feff-5620d388e392"
      },
      "source": [
        "#훈련과정 시각화\r\n",
        "import matplotlib.pyplot as plt\r\n",
        "plt.plot(history.history['loss'], 'b-', label='loss')\r\n",
        "plt.plot(history.history['val_loss'], 'r--', label='val_loss')\r\n",
        "plt.xlabel('Epoch')\r\n",
        "plt.legend()\r\n",
        "plt.show()"
      ],
      "execution_count": null,
      "outputs": [
        {
          "output_type": "display_data",
          "data": {
            "image/png": "[encoded data removed]",
            "text/plain": [
              "<Figure size 432x288 with 1 Axes>"
            ]
          },
          "metadata": {
            "tags": [],
            "needs_background": "light"
          }
        }
      ]
    },
    {
      "cell_type": "code",
      "metadata": {
        "colab": {
          "base_uri": "https://localhost:8080/"
        },
        "id": "qOMdYqxGJWxt",
        "outputId": "e9a19911-e081-4465-bba3-02f98ee800e3"
      },
      "source": [
        "#모델 평가\r\n",
        "model.evaluate(test_data,test_targets)"
      ],
      "execution_count": null,
      "outputs": [
        {
          "output_type": "stream",
          "text": [
            "4/4 [==============================] - 0s 2ms/step - loss: 0.2470\n"
          ],
          "name": "stdout"
        },
        {
          "output_type": "execute_result",
          "data": {
            "text/plain": [
              "0.24695049226284027"
            ]
          },
          "metadata": {
            "tags": []
          },
          "execution_count": 9
        }
      ]
    },
    {
      "cell_type": "code",
      "metadata": {
        "colab": {
          "base_uri": "https://localhost:8080/",
          "height": 501
        },
        "id": "NgADaamuKDRA",
        "outputId": "10ecf24e-060b-43ad-ce3d-b8d4d45f1e45"
      },
      "source": [
        "#예측 결과와 실제 값 비교 시각화\r\n",
        "import matplotlib.pyplot as plt\r\n",
        "\r\n",
        "pred_targets = model.predict(test_data)\r\n",
        "\r\n",
        "plt.figure(figsize=(8,8))\r\n",
        "plt.plot(test_targets, pred_targets, 'b.')\r\n",
        "plt.axis([min(test_targets), max(test_targets), min(test_targets), max(test_targets)])\r\n",
        "\r\n",
        "plt.plot([min(test_targets), max(test_targets)], [min(test_targets), max(test_targets)], ls=\"--\", c=\".5\")\r\n",
        "plt.xlabel('test_targets')\r\n",
        "plt.ylabel('pred_targets')\r\n",
        "\r\n",
        "plt.show()"
      ],
      "execution_count": null,
      "outputs": [
        {
          "output_type": "display_data",
          "data": {
            "image/png": "[encoded data removed]",
            "text/plain": [
              "<Figure size 576x576 with 1 Axes>"
            ]
          },
          "metadata": {
            "tags": [],
            "needs_background": "light"
          }
        }
      ]
    },
    {
      "cell_type": "markdown",
      "metadata": {
        "id": "n9tgyhWFBB4R"
      },
      "source": [
        "\r\n",
        "\r\n",
        "---\r\n",
        "# **분류 문제: Iris 붓꽃 분류**\r\n",
        "\r\n",
        "---\r\n",
        "\r\n",
        "\r\n"
      ]
    },
    {
      "cell_type": "code",
      "metadata": {
        "id": "QhG3ZfbmlHoz"
      },
      "source": [
        "import tensorflow as tf"
      ],
      "execution_count": null,
      "outputs": []
    },
    {
      "cell_type": "code",
      "metadata": {
        "id": "ZVM8_K8EBewr"
      },
      "source": [
        "import seaborn as sns\r\n",
        "import pandas as pd\r\n",
        "import numpy as np\r\n",
        "\r\n",
        "#붓꽃 데이터 가져오기\r\n",
        "iris = sns.load_dataset(\"iris\") "
      ],
      "execution_count": null,
      "outputs": []
    },
    {
      "cell_type": "code",
      "metadata": {
        "colab": {
          "base_uri": "https://localhost:8080/"
        },
        "id": "S7NdKwhGN2wq",
        "outputId": "106f3a0b-a490-43c7-94d8-a2fadb2814dd"
      },
      "source": [
        "iris.shape #데이터 150개"
      ],
      "execution_count": null,
      "outputs": [
        {
          "output_type": "execute_result",
          "data": {
            "text/plain": [
              "(150, 5)"
            ]
          },
          "metadata": {
            "tags": []
          },
          "execution_count": 3
        }
      ]
    },
    {
      "cell_type": "code",
      "metadata": {
        "colab": {
          "base_uri": "https://localhost:8080/"
        },
        "id": "Gs1Y2KtzQahV",
        "outputId": "a1228b0a-2fae-4a7e-da03-1873a9b83b34"
      },
      "source": [
        "iris.info()"
      ],
      "execution_count": null,
      "outputs": [
        {
          "output_type": "stream",
          "text": [
            "<class 'pandas.core.frame.DataFrame'>\n",
            "RangeIndex: 150 entries, 0 to 149\n",
            "Data columns (total 5 columns):\n",
            " #   Column        Non-Null Count  Dtype  \n",
            "---  ------        --------------  -----  \n",
            " 0   sepal_length  150 non-null    float64\n",
            " 1   sepal_width   150 non-null    float64\n",
            " 2   petal_length  150 non-null    float64\n",
            " 3   petal_width   150 non-null    float64\n",
            " 4   species       150 non-null    object \n",
            "dtypes: float64(4), object(1)\n",
            "memory usage: 6.0+ KB\n"
          ],
          "name": "stdout"
        }
      ]
    },
    {
      "cell_type": "code",
      "metadata": {
        "colab": {
          "base_uri": "https://localhost:8080/"
        },
        "id": "88i-b48cSGdp",
        "outputId": "70b176e6-cddb-4ecc-bfcf-9437a14f02f0"
      },
      "source": [
        "iris['species'].unique() #붓꽃 종류는 3개"
      ],
      "execution_count": null,
      "outputs": [
        {
          "output_type": "execute_result",
          "data": {
            "text/plain": [
              "array(['setosa', 'versicolor', 'virginica'], dtype=object)"
            ]
          },
          "metadata": {
            "tags": []
          },
          "execution_count": 5
        }
      ]
    },
    {
      "cell_type": "code",
      "metadata": {
        "id": "vfLJDb4BOYXL"
      },
      "source": [
        "from sklearn.preprocessing import LabelEncoder\r\n",
        "\r\n",
        "#iris 내부에 있는 0~4번을 x 4번인 종류를 y로 분류\r\n",
        "x = iris.iloc[:,0:4].values\r\n",
        "y = iris.iloc[:,4].values\r\n",
        "\r\n",
        "#softmax에서 사용 될 수 있도록 y의 글자를 원핫인코딩으로 바꾸어줌\r\n",
        "encoder =  LabelEncoder()\r\n",
        "y1 = encoder.fit_transform(y)\r\n",
        "y = pd.get_dummies(y1).values"
      ],
      "execution_count": null,
      "outputs": []
    },
    {
      "cell_type": "code",
      "metadata": {
        "colab": {
          "base_uri": "https://localhost:8080/"
        },
        "id": "FSdEX1CJRF_V",
        "outputId": "b03f2e28-bc03-4bfc-9b01-ea91404a3686"
      },
      "source": [
        "#학습 데이터와 테스트 데이터로 분류\r\n",
        "from sklearn.model_selection import train_test_split\r\n",
        "\r\n",
        "x_train, x_test, y_train, y_test = train_test_split(x, y, test_size=0.2, random_state=1) \r\n",
        "x_train.shape, x_test.shape, y_train.shape, y_test.shape"
      ],
      "execution_count": null,
      "outputs": [
        {
          "output_type": "execute_result",
          "data": {
            "text/plain": [
              "((120, 4), (30, 4), (120, 3), (30, 3))"
            ]
          },
          "metadata": {
            "tags": []
          },
          "execution_count": 7
        }
      ]
    },
    {
      "cell_type": "code",
      "metadata": {
        "colab": {
          "base_uri": "https://localhost:8080/"
        },
        "id": "yTZXx4DURuqJ",
        "outputId": "c2712229-0037-442f-b2d6-23b620ecad8e"
      },
      "source": [
        "from keras import models\r\n",
        "from keras import layers\r\n",
        "\r\n",
        "#모델 생성 활성 함수 relu 입력종류 4개 은닉층 3개 출력결과 3개\r\n",
        "model = tf.keras.models.Sequential([\r\n",
        "    tf.keras.layers.Dense(units=64, activation='relu', input_shape=(4,)),\r\n",
        "    tf.keras.layers.Dense(units=64, activation='relu'),\r\n",
        "    tf.keras.layers.Dense(units=3, activation='softmax')                                     \r\n",
        "])\r\n",
        "\r\n",
        "#손실 함수 다중 분류 손실함수\r\n",
        "model.compile(optimizer=tf.keras.optimizers.Adam(lr=0.05),loss='categorical_crossentropy', metrics=['accuracy'])\r\n",
        "\r\n",
        "model.summary()"
      ],
      "execution_count": null,
      "outputs": [
        {
          "output_type": "stream",
          "text": [
            "Model: \"sequential\"\n",
            "_________________________________________________________________\n",
            "Layer (type)                 Output Shape              Param #   \n",
            "=================================================================\n",
            "dense (Dense)                (None, 64)                320       \n",
            "_________________________________________________________________\n",
            "dense_1 (Dense)              (None, 64)                4160      \n",
            "_________________________________________________________________\n",
            "dense_2 (Dense)              (None, 3)                 195       \n",
            "=================================================================\n",
            "Total params: 4,675\n",
            "Trainable params: 4,675\n",
            "Non-trainable params: 0\n",
            "_________________________________________________________________\n"
          ],
          "name": "stdout"
        }
      ]
    },
    {
      "cell_type": "code",
      "metadata": {
        "colab": {
          "base_uri": "https://localhost:8080/"
        },
        "id": "3WhdMcJRVXQO",
        "outputId": "0ce2f58d-7324-4c29-ff29-cb44cec1e523"
      },
      "source": [
        "#검증 데이터로 25퍼센트 활용 훈련은 100번 진행 10번 동안 손실이 줄어들지 않으면 callbacks 함수를 사용하여 훈련 중단\r\n",
        "history = model.fit(x_train, y_train, epochs=100, batch_size=32, validation_split=0.2, callbacks=[tf.keras.callbacks.EarlyStopping(patience=10, monitor='val_loss')])"
      ],
      "execution_count": null,
      "outputs": [
        {
          "output_type": "stream",
          "text": [
            "Epoch 1/100\n",
            "3/3 [==============================] - 0s 52ms/step - loss: 1.9206 - accuracy: 0.4688 - val_loss: 1.9554 - val_accuracy: 0.2917\n",
            "Epoch 2/100\n",
            "3/3 [==============================] - 0s 6ms/step - loss: 1.5756 - accuracy: 0.5312 - val_loss: 0.7254 - val_accuracy: 0.6250\n",
            "Epoch 3/100\n",
            "3/3 [==============================] - 0s 6ms/step - loss: 0.6717 - accuracy: 0.7292 - val_loss: 0.8132 - val_accuracy: 0.5417\n",
            "Epoch 4/100\n",
            "3/3 [==============================] - 0s 5ms/step - loss: 0.5256 - accuracy: 0.7708 - val_loss: 0.4669 - val_accuracy: 0.8333\n",
            "Epoch 5/100\n",
            "3/3 [==============================] - 0s 5ms/step - loss: 0.3762 - accuracy: 0.7708 - val_loss: 0.4924 - val_accuracy: 0.6250\n",
            "Epoch 6/100\n",
            "3/3 [==============================] - 0s 5ms/step - loss: 0.2813 - accuracy: 0.9167 - val_loss: 0.2578 - val_accuracy: 0.9583\n",
            "Epoch 7/100\n",
            "3/3 [==============================] - 0s 5ms/step - loss: 0.1979 - accuracy: 0.9688 - val_loss: 0.2868 - val_accuracy: 0.8750\n",
            "Epoch 8/100\n",
            "3/3 [==============================] - 0s 5ms/step - loss: 0.1828 - accuracy: 0.9479 - val_loss: 0.3770 - val_accuracy: 0.8750\n",
            "Epoch 9/100\n",
            "3/3 [==============================] - 0s 6ms/step - loss: 0.2534 - accuracy: 0.8958 - val_loss: 0.7304 - val_accuracy: 0.7083\n",
            "Epoch 10/100\n",
            "3/3 [==============================] - 0s 7ms/step - loss: 0.3514 - accuracy: 0.8229 - val_loss: 0.9451 - val_accuracy: 0.6667\n",
            "Epoch 11/100\n",
            "3/3 [==============================] - 0s 7ms/step - loss: 0.3312 - accuracy: 0.8750 - val_loss: 0.2246 - val_accuracy: 0.9167\n",
            "Epoch 12/100\n",
            "3/3 [==============================] - 0s 6ms/step - loss: 0.1595 - accuracy: 0.9271 - val_loss: 0.1273 - val_accuracy: 0.9583\n",
            "Epoch 13/100\n",
            "3/3 [==============================] - 0s 6ms/step - loss: 0.0889 - accuracy: 0.9792 - val_loss: 0.1942 - val_accuracy: 0.9167\n",
            "Epoch 14/100\n",
            "3/3 [==============================] - 0s 6ms/step - loss: 0.1046 - accuracy: 0.9792 - val_loss: 0.1249 - val_accuracy: 0.9583\n",
            "Epoch 15/100\n",
            "3/3 [==============================] - 0s 5ms/step - loss: 0.0736 - accuracy: 0.9688 - val_loss: 0.1198 - val_accuracy: 0.9583\n",
            "Epoch 16/100\n",
            "3/3 [==============================] - 0s 6ms/step - loss: 0.0702 - accuracy: 0.9792 - val_loss: 0.1164 - val_accuracy: 0.9583\n",
            "Epoch 17/100\n",
            "3/3 [==============================] - 0s 6ms/step - loss: 0.0625 - accuracy: 0.9792 - val_loss: 0.1126 - val_accuracy: 0.9583\n",
            "Epoch 18/100\n",
            "3/3 [==============================] - 0s 6ms/step - loss: 0.0633 - accuracy: 0.9896 - val_loss: 0.1084 - val_accuracy: 0.9583\n",
            "Epoch 19/100\n",
            "3/3 [==============================] - 0s 5ms/step - loss: 0.0614 - accuracy: 0.9792 - val_loss: 0.1095 - val_accuracy: 0.9583\n",
            "Epoch 20/100\n",
            "3/3 [==============================] - 0s 6ms/step - loss: 0.0607 - accuracy: 0.9792 - val_loss: 0.1074 - val_accuracy: 0.9583\n",
            "Epoch 21/100\n",
            "3/3 [==============================] - 0s 6ms/step - loss: 0.0582 - accuracy: 0.9792 - val_loss: 0.1072 - val_accuracy: 0.9583\n",
            "Epoch 22/100\n",
            "3/3 [==============================] - 0s 6ms/step - loss: 0.0578 - accuracy: 0.9792 - val_loss: 0.1046 - val_accuracy: 0.9583\n",
            "Epoch 23/100\n",
            "3/3 [==============================] - 0s 6ms/step - loss: 0.0583 - accuracy: 0.9792 - val_loss: 0.1042 - val_accuracy: 0.9167\n",
            "Epoch 24/100\n",
            "3/3 [==============================] - 0s 6ms/step - loss: 0.0663 - accuracy: 0.9688 - val_loss: 0.1035 - val_accuracy: 0.9167\n",
            "Epoch 25/100\n",
            "3/3 [==============================] - 0s 7ms/step - loss: 0.0785 - accuracy: 0.9792 - val_loss: 0.1153 - val_accuracy: 0.9167\n",
            "Epoch 26/100\n",
            "3/3 [==============================] - 0s 6ms/step - loss: 0.0627 - accuracy: 0.9688 - val_loss: 0.1445 - val_accuracy: 0.9167\n",
            "Epoch 27/100\n",
            "3/3 [==============================] - 0s 6ms/step - loss: 0.0728 - accuracy: 0.9688 - val_loss: 0.1196 - val_accuracy: 0.9167\n",
            "Epoch 28/100\n",
            "3/3 [==============================] - 0s 6ms/step - loss: 0.0741 - accuracy: 0.9583 - val_loss: 0.1311 - val_accuracy: 0.9167\n",
            "Epoch 29/100\n",
            "3/3 [==============================] - 0s 6ms/step - loss: 0.0575 - accuracy: 0.9896 - val_loss: 0.1208 - val_accuracy: 0.9167\n",
            "Epoch 30/100\n",
            "3/3 [==============================] - 0s 6ms/step - loss: 0.0625 - accuracy: 0.9792 - val_loss: 0.1200 - val_accuracy: 0.9167\n",
            "Epoch 31/100\n",
            "3/3 [==============================] - 0s 6ms/step - loss: 0.0826 - accuracy: 0.9583 - val_loss: 0.1121 - val_accuracy: 0.9167\n",
            "Epoch 32/100\n",
            "3/3 [==============================] - 0s 5ms/step - loss: 0.0626 - accuracy: 0.9792 - val_loss: 0.1059 - val_accuracy: 0.9167\n",
            "Epoch 33/100\n",
            "3/3 [==============================] - 0s 6ms/step - loss: 0.0512 - accuracy: 0.9792 - val_loss: 0.1236 - val_accuracy: 0.9167\n",
            "Epoch 34/100\n",
            "3/3 [==============================] - 0s 7ms/step - loss: 0.0585 - accuracy: 0.9792 - val_loss: 0.1085 - val_accuracy: 0.9583\n"
          ],
          "name": "stdout"
        }
      ]
    },
    {
      "cell_type": "code",
      "metadata": {
        "colab": {
          "base_uri": "https://localhost:8080/",
          "height": 283
        },
        "id": "RtjyelY1XP2G",
        "outputId": "e5337954-1613-4f8a-c70f-e925489fa0aa"
      },
      "source": [
        "import matplotlib.pyplot as plt\r\n",
        "\r\n",
        "#학습 결과의 정확도와 손실도 시각화\r\n",
        "plt.figure(figsize=(12,4))\r\n",
        "plt.plot(history.history['loss'])\r\n",
        "plt.plot(history.history['val_loss'])\r\n",
        "plt.plot(history.history['accuracy'])\r\n",
        "plt.plot(history.history['val_accuracy'])\r\n",
        "plt.legend(['loss','val_loss', 'acc','val_acc'])\r\n",
        "plt.show()\r\n",
        "history"
      ],
      "execution_count": null,
      "outputs": [
        {
          "output_type": "display_data",
          "data": {
            "image/png": "[encoded data removed]",
            "text/plain": [
              "<Figure size 864x288 with 1 Axes>"
            ]
          },
          "metadata": {
            "tags": [],
            "needs_background": "light"
          }
        },
        {
          "output_type": "execute_result",
          "data": {
            "text/plain": [
              "<tensorflow.python.keras.callbacks.History at 0x7f9240036eb8>"
            ]
          },
          "metadata": {
            "tags": []
          },
          "execution_count": 10
        }
      ]
    },
    {
      "cell_type": "code",
      "metadata": {
        "colab": {
          "base_uri": "https://localhost:8080/"
        },
        "id": "WLj__bOmYCPi",
        "outputId": "244585d2-7ce5-46ca-fe41-a8b29a540a22"
      },
      "source": [
        "#모델 평가\r\n",
        "model.evaluate(x_test,y_test)"
      ],
      "execution_count": null,
      "outputs": [
        {
          "output_type": "stream",
          "text": [
            "1/1 [==============================] - 0s 1ms/step - loss: 0.0335 - accuracy: 1.0000\n"
          ],
          "name": "stdout"
        },
        {
          "output_type": "execute_result",
          "data": {
            "text/plain": [
              "[0.03353748098015785, 1.0]"
            ]
          },
          "metadata": {
            "tags": []
          },
          "execution_count": 11
        }
      ]
    },
    {
      "cell_type": "markdown",
      "metadata": {
        "id": "vmhY2hPRswwv"
      },
      "source": [
        "\r\n",
        "\r\n",
        "---\r\n",
        "# **CIFAR-10 분류**\r\n",
        "\r\n",
        "---\r\n",
        "\r\n"
      ]
    },
    {
      "cell_type": "code",
      "metadata": {
        "id": "KcDITOPHtBGc"
      },
      "source": [
        "import tensorflow as tf"
      ],
      "execution_count": null,
      "outputs": []
    },
    {
      "cell_type": "code",
      "metadata": {
        "colab": {
          "base_uri": "https://localhost:8080/"
        },
        "id": "lRHJHmQguy8P",
        "outputId": "a98fea38-81c4-403d-c439-b4b6f32d6ed7"
      },
      "source": [
        "from keras.datasets import cifar10\r\n",
        "\r\n",
        "#cifar10 데이터 불러오기\r\n",
        "#이미지 크기 32x32\r\n",
        "#차원은 3차원\r\n",
        "(x_train, y_train), (x_test, y_test) = cifar10.load_data()\r\n",
        "x_train.shape, x_test.shape, y_train.shape, y_test.shape"
      ],
      "execution_count": null,
      "outputs": [
        {
          "output_type": "stream",
          "text": [
            "Downloading data from https://www.cs.toronto.edu/~kriz/cifar-10-python.tar.gz\n",
            "170500096/170498071 [==============================] - 2s 0us/step\n"
          ],
          "name": "stdout"
        },
        {
          "output_type": "execute_result",
          "data": {
            "text/plain": [
              "((50000, 32, 32, 3), (10000, 32, 32, 3), (50000, 1), (10000, 1))"
            ]
          },
          "metadata": {
            "tags": []
          },
          "execution_count": 2
        }
      ]
    },
    {
      "cell_type": "code",
      "metadata": {
        "id": "KeJcZSl5uy3y"
      },
      "source": [
        "#이미지 전처리\r\n",
        "x_train = x_train / 255.0\r\n",
        "x_test = x_test / 255.0"
      ],
      "execution_count": null,
      "outputs": []
    },
    {
      "cell_type": "code",
      "metadata": {
        "colab": {
          "base_uri": "https://localhost:8080/",
          "height": 124
        },
        "id": "c5wTGKcK0KOD",
        "outputId": "2eaa4d4e-c943-4db1-9d2a-ef9af72ac1a6"
      },
      "source": [
        "import matplotlib.pyplot as plt\r\n",
        "plt.subplot(141)\r\n",
        "plt.imshow(x_train[0], interpolation=\"bicubic\")\r\n",
        "plt.grid(False)\r\n",
        "plt.subplot(142)\r\n",
        "plt.imshow(x_train[1], interpolation=\"bicubic\")\r\n",
        "plt.grid(False)\r\n",
        "plt.subplot(143)\r\n",
        "plt.imshow(x_train[2], interpolation=\"bicubic\")\r\n",
        "plt.grid(False)\r\n",
        "plt.subplot(144)\r\n",
        "plt.imshow(x_train[3], interpolation=\"bicubic\")\r\n",
        "plt.grid(False)\r\n",
        "\r\n",
        "plt.show()"
      ],
      "execution_count": null,
      "outputs": [
        {
          "output_type": "display_data",
          "data": {
            "image/png": "[encoded data removed]",
            "text/plain": [
              "<Figure size 432x288 with 4 Axes>"
            ]
          },
          "metadata": {
            "tags": [],
            "needs_background": "light"
          }
        }
      ]
    },
    {
      "cell_type": "code",
      "metadata": {
        "id": "6oDANaWR3JX8"
      },
      "source": [
        "import numpy as np\r\n",
        "\r\n",
        "mean=[0,0,0]\r\n",
        "std=[0,0,0]\r\n",
        "\r\n",
        "x_train1 = np.ones(x_train.shape)\r\n",
        "x_test1 = np.ones(x_test.shape)\r\n",
        "\r\n",
        "#학습 데이터의 평균과 표준편차\r\n",
        "for i in range(3):\r\n",
        "    mean[i] = np.mean(x_train[:,:,:,i])\r\n",
        "    std[i] = np.std(x_train[:,:,:,i])\r\n",
        "\r\n",
        "#학습 데이터와 훈련 데이터 정규화\r\n",
        "for i in range(3):\r\n",
        "    x_train1[:,:,:,i] = x_train[:,:,:,i] - mean[i]\r\n",
        "    x_train1[:,:,:,i] = x_train1[:,:,:,i] / std[i]\r\n",
        "    x_test1[:,:,:,i] = x_test[:,:,:,i] - mean[i]\r\n",
        "    x_test1[:,:,:,i] = x_test1[:,:,:,i] / std[i]\r\n",
        "\r\n",
        "x_train = x_train1\r\n",
        "x_test = x_test1"
      ],
      "execution_count": null,
      "outputs": []
    },
    {
      "cell_type": "code",
      "metadata": {
        "colab": {
          "base_uri": "https://localhost:8080/"
        },
        "id": "t_W_vUvN6rAy",
        "outputId": "9bb88daa-99b8-44e6-d7ff-0e96677121c7"
      },
      "source": [
        "from keras import models\r\n",
        "from keras import layers\r\n",
        "\r\n",
        "#모델 생성 입력은 32X32 컬러이므로 3채널, 컬러 이미지를 받기 위해 Conv2D 2층 과적합을 줄이기 위해 MaxPool2D 2층 Flatten으로 평탄화 Dense층 2층 Dropout 30프로, 출력 10개\r\n",
        "model = tf.keras.models.Sequential([\r\n",
        "    tf.keras.layers.Conv2D(input_shape=(32,32,3), kernel_size=(3,3), filters=16),\r\n",
        "    tf.keras.layers.MaxPool2D(strides=(2,2)),\r\n",
        "    tf.keras.layers.Conv2D(kernel_size=(3,3), filters=64),\r\n",
        "    tf.keras.layers.MaxPool2D(strides=(2,2)), \r\n",
        "    tf.keras.layers.Flatten(),\r\n",
        "    tf.keras.layers.Dense(units=64, activation='relu'),\r\n",
        "    tf.keras.layers.Dropout(rate=0.3),\r\n",
        "    tf.keras.layers.Dense(units=10, activation='softmax')\r\n",
        "])\r\n",
        "\r\n",
        "\r\n",
        "#손실 함수 다중 분류 손실함수\r\n",
        "model.compile(optimizer=tf.keras.optimizers.Adam(),loss='sparse_categorical_crossentropy', metrics=['accuracy'])\r\n",
        "\r\n",
        "model.summary()"
      ],
      "execution_count": null,
      "outputs": [
        {
          "output_type": "stream",
          "text": [
            "Model: \"sequential\"\n",
            "_________________________________________________________________\n",
            "Layer (type)                 Output Shape              Param #   \n",
            "=================================================================\n",
            "conv2d (Conv2D)              (None, 30, 30, 16)        448       \n",
            "_________________________________________________________________\n",
            "max_pooling2d (MaxPooling2D) (None, 15, 15, 16)        0         \n",
            "_________________________________________________________________\n",
            "conv2d_1 (Conv2D)            (None, 13, 13, 64)        9280      \n",
            "_________________________________________________________________\n",
            "max_pooling2d_1 (MaxPooling2 (None, 6, 6, 64)          0         \n",
            "_________________________________________________________________\n",
            "flatten (Flatten)            (None, 2304)              0         \n",
            "_________________________________________________________________\n",
            "dense (Dense)                (None, 64)                147520    \n",
            "_________________________________________________________________\n",
            "dropout (Dropout)            (None, 64)                0         \n",
            "_________________________________________________________________\n",
            "dense_1 (Dense)              (None, 10)                650       \n",
            "=================================================================\n",
            "Total params: 157,898\n",
            "Trainable params: 157,898\n",
            "Non-trainable params: 0\n",
            "_________________________________________________________________\n"
          ],
          "name": "stdout"
        }
      ]
    },
    {
      "cell_type": "code",
      "metadata": {
        "colab": {
          "base_uri": "https://localhost:8080/"
        },
        "id": "ZelpZx-48P5D",
        "outputId": "6c3bb9e1-854f-41d7-bb87-cfea66c2b7f4"
      },
      "source": [
        "#검증 데이터로 20퍼센트 활용 훈련은 50번 진행\r\n",
        "history = model.fit(x_train, y_train, epochs=50, batch_size=32, validation_split=0.2)"
      ],
      "execution_count": null,
      "outputs": [
        {
          "output_type": "stream",
          "text": [
            "Epoch 1/50\n",
            "1250/1250 [==============================] - 4s 3ms/step - loss: 1.4882 - accuracy: 0.4734 - val_loss: 1.1933 - val_accuracy: 0.5775\n",
            "Epoch 2/50\n",
            "1250/1250 [==============================] - 4s 3ms/step - loss: 1.1765 - accuracy: 0.5917 - val_loss: 1.0462 - val_accuracy: 0.6448\n",
            "Epoch 3/50\n",
            "1250/1250 [==============================] - 4s 3ms/step - loss: 1.0650 - accuracy: 0.6296 - val_loss: 1.0281 - val_accuracy: 0.6505\n",
            "Epoch 4/50\n",
            "1250/1250 [==============================] - 4s 3ms/step - loss: 0.9921 - accuracy: 0.6539 - val_loss: 1.0550 - val_accuracy: 0.6375\n",
            "Epoch 5/50\n",
            "1250/1250 [==============================] - 4s 3ms/step - loss: 0.9335 - accuracy: 0.6732 - val_loss: 1.0042 - val_accuracy: 0.6590\n",
            "Epoch 6/50\n",
            "1250/1250 [==============================] - 4s 3ms/step - loss: 0.8833 - accuracy: 0.6919 - val_loss: 0.9992 - val_accuracy: 0.6652\n",
            "Epoch 7/50\n",
            "1250/1250 [==============================] - 3s 3ms/step - loss: 0.8373 - accuracy: 0.7060 - val_loss: 1.0358 - val_accuracy: 0.6456\n",
            "Epoch 8/50\n",
            "1250/1250 [==============================] - 3s 3ms/step - loss: 0.7911 - accuracy: 0.7200 - val_loss: 1.0147 - val_accuracy: 0.6643\n",
            "Epoch 9/50\n",
            "1250/1250 [==============================] - 4s 3ms/step - loss: 0.7584 - accuracy: 0.7304 - val_loss: 1.0764 - val_accuracy: 0.6467\n",
            "Epoch 10/50\n",
            "1250/1250 [==============================] - 3s 3ms/step - loss: 0.7225 - accuracy: 0.7423 - val_loss: 1.0464 - val_accuracy: 0.6632\n",
            "Epoch 11/50\n",
            "1250/1250 [==============================] - 3s 3ms/step - loss: 0.6849 - accuracy: 0.7574 - val_loss: 1.0650 - val_accuracy: 0.6579\n",
            "Epoch 12/50\n",
            "1250/1250 [==============================] - 3s 3ms/step - loss: 0.6568 - accuracy: 0.7642 - val_loss: 1.1061 - val_accuracy: 0.6586\n",
            "Epoch 13/50\n",
            "1250/1250 [==============================] - 4s 3ms/step - loss: 0.6328 - accuracy: 0.7715 - val_loss: 1.1079 - val_accuracy: 0.6596\n",
            "Epoch 14/50\n",
            "1250/1250 [==============================] - 4s 3ms/step - loss: 0.6060 - accuracy: 0.7827 - val_loss: 1.1379 - val_accuracy: 0.6614\n",
            "Epoch 15/50\n",
            "1250/1250 [==============================] - 4s 3ms/step - loss: 0.5855 - accuracy: 0.7907 - val_loss: 1.1881 - val_accuracy: 0.6455\n",
            "Epoch 16/50\n",
            "1250/1250 [==============================] - 4s 3ms/step - loss: 0.5717 - accuracy: 0.7931 - val_loss: 1.1718 - val_accuracy: 0.6562\n",
            "Epoch 17/50\n",
            "1250/1250 [==============================] - 3s 3ms/step - loss: 0.5443 - accuracy: 0.8032 - val_loss: 1.2479 - val_accuracy: 0.6571\n",
            "Epoch 18/50\n",
            "1250/1250 [==============================] - 4s 3ms/step - loss: 0.5261 - accuracy: 0.8078 - val_loss: 1.2460 - val_accuracy: 0.6549\n",
            "Epoch 19/50\n",
            "1250/1250 [==============================] - 4s 3ms/step - loss: 0.5163 - accuracy: 0.8138 - val_loss: 1.2484 - val_accuracy: 0.6520\n",
            "Epoch 20/50\n",
            "1250/1250 [==============================] - 4s 3ms/step - loss: 0.4967 - accuracy: 0.8183 - val_loss: 1.2759 - val_accuracy: 0.6532\n",
            "Epoch 21/50\n",
            "1250/1250 [==============================] - 4s 3ms/step - loss: 0.4870 - accuracy: 0.8230 - val_loss: 1.3586 - val_accuracy: 0.6515\n",
            "Epoch 22/50\n",
            "1250/1250 [==============================] - 4s 3ms/step - loss: 0.4761 - accuracy: 0.8270 - val_loss: 1.3846 - val_accuracy: 0.6387\n",
            "Epoch 23/50\n",
            "1250/1250 [==============================] - 4s 3ms/step - loss: 0.4653 - accuracy: 0.8296 - val_loss: 1.4197 - val_accuracy: 0.6424\n",
            "Epoch 24/50\n",
            "1250/1250 [==============================] - 3s 3ms/step - loss: 0.4513 - accuracy: 0.8363 - val_loss: 1.4183 - val_accuracy: 0.6426\n",
            "Epoch 25/50\n",
            "1250/1250 [==============================] - 3s 3ms/step - loss: 0.4436 - accuracy: 0.8372 - val_loss: 1.4516 - val_accuracy: 0.6529\n",
            "Epoch 26/50\n",
            "1250/1250 [==============================] - 3s 3ms/step - loss: 0.4348 - accuracy: 0.8409 - val_loss: 1.5189 - val_accuracy: 0.6438\n",
            "Epoch 27/50\n",
            "1250/1250 [==============================] - 4s 3ms/step - loss: 0.4236 - accuracy: 0.8443 - val_loss: 1.5279 - val_accuracy: 0.6473\n",
            "Epoch 28/50\n",
            "1250/1250 [==============================] - 4s 3ms/step - loss: 0.4230 - accuracy: 0.8451 - val_loss: 1.5493 - val_accuracy: 0.6389\n",
            "Epoch 29/50\n",
            "1250/1250 [==============================] - 3s 3ms/step - loss: 0.4049 - accuracy: 0.8542 - val_loss: 1.5540 - val_accuracy: 0.6365\n",
            "Epoch 30/50\n",
            "1250/1250 [==============================] - 4s 3ms/step - loss: 0.4078 - accuracy: 0.8521 - val_loss: 1.6125 - val_accuracy: 0.6364\n",
            "Epoch 31/50\n",
            "1250/1250 [==============================] - 4s 3ms/step - loss: 0.3997 - accuracy: 0.8542 - val_loss: 1.6130 - val_accuracy: 0.6386\n",
            "Epoch 32/50\n",
            "1250/1250 [==============================] - 4s 3ms/step - loss: 0.3901 - accuracy: 0.8553 - val_loss: 1.5511 - val_accuracy: 0.6326\n",
            "Epoch 33/50\n",
            "1250/1250 [==============================] - 4s 3ms/step - loss: 0.3887 - accuracy: 0.8604 - val_loss: 1.7112 - val_accuracy: 0.6374\n",
            "Epoch 34/50\n",
            "1250/1250 [==============================] - 3s 3ms/step - loss: 0.3787 - accuracy: 0.8624 - val_loss: 1.7338 - val_accuracy: 0.6405\n",
            "Epoch 35/50\n",
            "1250/1250 [==============================] - 4s 3ms/step - loss: 0.3777 - accuracy: 0.8619 - val_loss: 1.7047 - val_accuracy: 0.6263\n",
            "Epoch 36/50\n",
            "1250/1250 [==============================] - 4s 3ms/step - loss: 0.3765 - accuracy: 0.8629 - val_loss: 1.7991 - val_accuracy: 0.6318\n",
            "Epoch 37/50\n",
            "1250/1250 [==============================] - 4s 3ms/step - loss: 0.3590 - accuracy: 0.8709 - val_loss: 1.7212 - val_accuracy: 0.6329\n",
            "Epoch 38/50\n",
            "1250/1250 [==============================] - 4s 3ms/step - loss: 0.3595 - accuracy: 0.8692 - val_loss: 1.7462 - val_accuracy: 0.6245\n",
            "Epoch 39/50\n",
            "1250/1250 [==============================] - 3s 3ms/step - loss: 0.3587 - accuracy: 0.8703 - val_loss: 1.7900 - val_accuracy: 0.6315\n",
            "Epoch 40/50\n",
            "1250/1250 [==============================] - 4s 3ms/step - loss: 0.3515 - accuracy: 0.8706 - val_loss: 1.7677 - val_accuracy: 0.6330\n",
            "Epoch 41/50\n",
            "1250/1250 [==============================] - 3s 3ms/step - loss: 0.3501 - accuracy: 0.8744 - val_loss: 1.8392 - val_accuracy: 0.6357\n",
            "Epoch 42/50\n",
            "1250/1250 [==============================] - 4s 3ms/step - loss: 0.3491 - accuracy: 0.8734 - val_loss: 1.8717 - val_accuracy: 0.6314\n",
            "Epoch 43/50\n",
            "1250/1250 [==============================] - 4s 3ms/step - loss: 0.3390 - accuracy: 0.8756 - val_loss: 1.8678 - val_accuracy: 0.6270\n",
            "Epoch 44/50\n",
            "1250/1250 [==============================] - 3s 3ms/step - loss: 0.3388 - accuracy: 0.8775 - val_loss: 1.8786 - val_accuracy: 0.6335\n",
            "Epoch 45/50\n",
            "1250/1250 [==============================] - 4s 3ms/step - loss: 0.3374 - accuracy: 0.8770 - val_loss: 1.8756 - val_accuracy: 0.6362\n",
            "Epoch 46/50\n",
            "1250/1250 [==============================] - 4s 3ms/step - loss: 0.3380 - accuracy: 0.8775 - val_loss: 1.9441 - val_accuracy: 0.6282\n",
            "Epoch 47/50\n",
            "1250/1250 [==============================] - 4s 3ms/step - loss: 0.3249 - accuracy: 0.8813 - val_loss: 1.8968 - val_accuracy: 0.6267\n",
            "Epoch 48/50\n",
            "1250/1250 [==============================] - 4s 3ms/step - loss: 0.3267 - accuracy: 0.8812 - val_loss: 1.9887 - val_accuracy: 0.6207\n",
            "Epoch 49/50\n",
            "1250/1250 [==============================] - 3s 3ms/step - loss: 0.3195 - accuracy: 0.8856 - val_loss: 2.0884 - val_accuracy: 0.6312\n",
            "Epoch 50/50\n",
            "1250/1250 [==============================] - 3s 3ms/step - loss: 0.3216 - accuracy: 0.8844 - val_loss: 2.0132 - val_accuracy: 0.6261\n"
          ],
          "name": "stdout"
        }
      ]
    },
    {
      "cell_type": "code",
      "metadata": {
        "colab": {
          "base_uri": "https://localhost:8080/",
          "height": 283
        },
        "id": "KATichZvLefM",
        "outputId": "36c4abc1-698a-4a77-f02b-36c035c8b245"
      },
      "source": [
        "import matplotlib.pyplot as plt\r\n",
        "\r\n",
        "#학습 결과의 정확도와 손실도 시각화\r\n",
        "plt.figure(figsize=(12,4))\r\n",
        "plt.plot(history.history['loss'])\r\n",
        "plt.plot(history.history['val_loss'])\r\n",
        "plt.plot(history.history['accuracy'])\r\n",
        "plt.plot(history.history['val_accuracy'])\r\n",
        "plt.legend(['loss','val_loss', 'acc','val_acc'])\r\n",
        "plt.show()\r\n",
        "history"
      ],
      "execution_count": null,
      "outputs": [
        {
          "output_type": "display_data",
          "data": {
            "image/png": "[encoded data removed]",
            "text/plain": [
              "<Figure size 864x288 with 1 Axes>"
            ]
          },
          "metadata": {
            "tags": [],
            "needs_background": "light"
          }
        },
        {
          "output_type": "execute_result",
          "data": {
            "text/plain": [
              "<tensorflow.python.keras.callbacks.History at 0x7f9c76061828>"
            ]
          },
          "metadata": {
            "tags": []
          },
          "execution_count": 8
        }
      ]
    },
    {
      "cell_type": "code",
      "metadata": {
        "colab": {
          "base_uri": "https://localhost:8080/"
        },
        "id": "TYRqq_11RgHF",
        "outputId": "426d5e54-dc41-4ea0-f1f9-20c82a8911eb"
      },
      "source": [
        "#모델 평가\r\n",
        "model.evaluate(x_test,y_test)"
      ],
      "execution_count": null,
      "outputs": [
        {
          "output_type": "stream",
          "text": [
            "313/313 [==============================] - 1s 2ms/step - loss: 2.0384 - accuracy: 0.6277\n"
          ],
          "name": "stdout"
        },
        {
          "output_type": "execute_result",
          "data": {
            "text/plain": [
              "[2.038433313369751, 0.6276999711990356]"
            ]
          },
          "metadata": {
            "tags": []
          },
          "execution_count": 9
        }
      ]
    }
  ]
}