{
  "nbformat": 4,
  "nbformat_minor": 0,
  "metadata": {
    "colab": {
      "name": "03-tf-random.ipynb",
      "provenance": [],
      "collapsed_sections": [],
      "authorship_tag": "ABX9TyPGIp2pD6Yhl+sAfKJdZjjx"
    },
    "kernelspec": {
      "name": "python3",
      "display_name": "Python 3"
    }
  },
  "cells": [
    {
      "cell_type": "code",
      "metadata": {
        "id": "aUvVs8-oHbr3",
        "outputId": "ec79aaf0-ddf8-4f4a-abe4-b19f2c3f882f",
        "colab": {
          "base_uri": "https://localhost:8080/",
          "height": 35
        }
      },
      "source": [
        "import tensorflow as tf\n",
        "tf.__version__"
      ],
      "execution_count": null,
      "outputs": [
        {
          "output_type": "execute_result",
          "data": {
            "application/vnd.google.colaboratory.intrinsic+json": {
              "type": "string"
            },
            "text/plain": [
              "'2.3.0'"
            ]
          },
          "metadata": {
            "tags": []
          },
          "execution_count": 2
        }
      ]
    },
    {
      "cell_type": "code",
      "metadata": {
        "id": "BaJ83l2SGNj2",
        "outputId": "5af9b01d-965d-4803-dd57-ba316ecea767",
        "colab": {
          "base_uri": "https://localhost:8080/",
          "height": 35
        }
      },
      "source": [
        "rand = tf.random.uniform([1], 0, 1)\n",
        "print(rand)"
      ],
      "execution_count": null,
      "outputs": [
        {
          "output_type": "stream",
          "text": [
            "tf.Tensor([0.3349316], shape=(1,), dtype=float32)\n"
          ],
          "name": "stdout"
        }
      ]
    },
    {
      "cell_type": "code",
      "metadata": {
        "id": "JUggB0sCGYuL",
        "outputId": "c177aa91-48d4-4245-a615-a78e1e179b71",
        "colab": {
          "base_uri": "https://localhost:8080/",
          "height": 125
        }
      },
      "source": [
        "rand = tf.random.uniform([5, 4], 0, 1)\n",
        "print(rand)"
      ],
      "execution_count": null,
      "outputs": [
        {
          "output_type": "stream",
          "text": [
            "tf.Tensor(\n",
            "[[0.76995957 0.08675039 0.28605926 0.08889234]\n",
            " [0.21031678 0.10340536 0.8174082  0.47835386]\n",
            " [0.08390379 0.71314573 0.8701055  0.7591988 ]\n",
            " [0.61094856 0.14041483 0.73186755 0.9318161 ]\n",
            " [0.66189086 0.6193949  0.4391322  0.7401329 ]], shape=(5, 4), dtype=float32)\n"
          ],
          "name": "stdout"
        }
      ]
    },
    {
      "cell_type": "code",
      "metadata": {
        "id": "cdN3wL-3H1XG",
        "outputId": "da56c6ee-ae76-4fc8-f63a-357350f066d4",
        "colab": {
          "base_uri": "https://localhost:8080/",
          "height": 71
        }
      },
      "source": [
        "rand = tf.random.uniform([1000], 0, 10)\n",
        "print(rand[:10])"
      ],
      "execution_count": null,
      "outputs": [
        {
          "output_type": "stream",
          "text": [
            "tf.Tensor(\n",
            "[0.72924256 3.765657   0.46588778 2.2808719  7.2776165  3.4047246\n",
            " 2.5813806  8.551088   9.90258    7.693486  ], shape=(10,), dtype=float32)\n"
          ],
          "name": "stdout"
        }
      ]
    },
    {
      "cell_type": "code",
      "metadata": {
        "id": "tAPsS1BLH_6q",
        "outputId": "bd11b472-d7c2-4611-d73d-d505bba6409e",
        "colab": {
          "base_uri": "https://localhost:8080/",
          "height": 482
        }
      },
      "source": [
        "import matplotlib.pyplot as plt\n",
        "rand = tf.random.uniform([1000000], 0, 50)\n",
        "plt.hist(rand, bins=10)"
      ],
      "execution_count": null,
      "outputs": [
        {
          "output_type": "execute_result",
          "data": {
            "text/plain": [
              "(array([100038.,  99850., 100124.,  99740., 100456.,  99717.,  99607.,\n",
              "         99952., 100199., 100317.]),\n",
              " array([1.1920929e-05, 5.0000033e+00, 9.9999952e+00, 1.4999987e+01,\n",
              "        1.9999979e+01, 2.4999969e+01, 2.9999962e+01, 3.4999954e+01,\n",
              "        3.9999943e+01, 4.4999935e+01, 4.9999928e+01], dtype=float32),\n",
              " <a list of 10 Patch objects>)"
            ]
          },
          "metadata": {
            "tags": []
          },
          "execution_count": 20
        },
        {
          "output_type": "display_data",
          "data": {
            "image/png": "[encoded data removed]",
            "text/plain": [
              "<Figure size 864x432 with 1 Axes>"
            ]
          },
          "metadata": {
            "tags": [],
            "needs_background": "light"
          }
        }
      ]
    },
    {
      "cell_type": "code",
      "metadata": {
        "id": "XfGhlsgmINRz",
        "outputId": "6592ca8d-f384-42a2-c7f4-b085b85d44d7",
        "colab": {
          "base_uri": "https://localhost:8080/",
          "height": 35
        }
      },
      "source": [
        "rand = tf.random.normal([4], 0, 1)\n",
        "print(rand)"
      ],
      "execution_count": null,
      "outputs": [
        {
          "output_type": "stream",
          "text": [
            "tf.Tensor([1.4447647  0.87830204 2.0429204  0.57109094], shape=(4,), dtype=float32)\n"
          ],
          "name": "stdout"
        }
      ]
    },
    {
      "cell_type": "code",
      "metadata": {
        "id": "ipf4Gb1jIUs4",
        "outputId": "22c9bcff-a861-4d76-da8c-bee045677669",
        "colab": {
          "base_uri": "https://localhost:8080/",
          "height": 71
        }
      },
      "source": [
        "rand = tf.random.normal([2, 4], 0, 2)\n",
        "print(rand)"
      ],
      "execution_count": null,
      "outputs": [
        {
          "output_type": "stream",
          "text": [
            "tf.Tensor(\n",
            "[[-1.296536    1.3584943  -1.8524516   0.92890435]\n",
            " [ 0.15495414  0.14869106 -1.8420694   0.12264358]], shape=(2, 4), dtype=float32)\n"
          ],
          "name": "stdout"
        }
      ]
    },
    {
      "cell_type": "code",
      "metadata": {
        "id": "8cQw5WP8IbJ5",
        "outputId": "f05c05c7-f54c-455f-9eaa-2947ced30af6",
        "colab": {
          "base_uri": "https://localhost:8080/",
          "height": 1000
        }
      },
      "source": [
        "import matplotlib.pyplot as plt\n",
        "rand = tf.random.normal([1000000], 0, 1)\n",
        "plt.hist(rand, bins=100)"
      ],
      "execution_count": null,
      "outputs": [
        {
          "output_type": "execute_result",
          "data": {
            "text/plain": [
              "(array([2.0000e+00, 0.0000e+00, 0.0000e+00, 2.0000e+00, 8.0000e+00,\n",
              "        2.0000e+00, 3.0000e+00, 1.4000e+01, 1.5000e+01, 1.9000e+01,\n",
              "        3.5000e+01, 4.7000e+01, 5.3000e+01, 8.8000e+01, 1.4900e+02,\n",
              "        1.7800e+02, 2.5400e+02, 3.4500e+02, 4.6000e+02, 6.6200e+02,\n",
              "        8.4000e+02, 1.0380e+03, 1.3200e+03, 1.7590e+03, 2.2550e+03,\n",
              "        2.9160e+03, 3.5590e+03, 4.3150e+03, 5.3230e+03, 6.5990e+03,\n",
              "        7.8670e+03, 9.4170e+03, 1.0866e+04, 1.2814e+04, 1.4793e+04,\n",
              "        1.6890e+04, 1.9055e+04, 2.1450e+04, 2.3732e+04, 2.5978e+04,\n",
              "        2.8837e+04, 3.0639e+04, 3.2755e+04, 3.4638e+04, 3.6365e+04,\n",
              "        3.7271e+04, 3.8519e+04, 3.9366e+04, 3.9321e+04, 3.9329e+04,\n",
              "        3.9095e+04, 3.8257e+04, 3.7146e+04, 3.5174e+04, 3.3475e+04,\n",
              "        3.1456e+04, 2.9479e+04, 2.7070e+04, 2.4267e+04, 2.2074e+04,\n",
              "        1.9713e+04, 1.7664e+04, 1.5362e+04, 1.3492e+04, 1.1531e+04,\n",
              "        9.8460e+03, 8.3230e+03, 6.8410e+03, 5.7660e+03, 4.6450e+03,\n",
              "        3.8370e+03, 3.0400e+03, 2.4030e+03, 1.8500e+03, 1.4910e+03,\n",
              "        1.1360e+03, 8.9200e+02, 7.0800e+02, 4.9700e+02, 3.7200e+02,\n",
              "        2.9800e+02, 1.8800e+02, 1.4500e+02, 1.0900e+02, 6.5000e+01,\n",
              "        3.6000e+01, 3.5000e+01, 2.2000e+01, 1.6000e+01, 5.0000e+00,\n",
              "        3.0000e+00, 3.0000e+00, 5.0000e+00, 4.0000e+00, 1.0000e+00,\n",
              "        0.0000e+00, 0.0000e+00, 0.0000e+00, 0.0000e+00, 1.0000e+00]),\n",
              " array([-4.821805  , -4.7226825 , -4.62356   , -4.524437  , -4.4253144 ,\n",
              "        -4.326192  , -4.2270694 , -4.127947  , -4.0288243 , -3.9297016 ,\n",
              "        -3.8305788 , -3.7314563 , -3.6323338 , -3.533211  , -3.4340885 ,\n",
              "        -3.334966  , -3.2358432 , -3.1367207 , -3.0375981 , -2.9384754 ,\n",
              "        -2.8393528 , -2.74023   , -2.6411076 , -2.541985  , -2.4428623 ,\n",
              "        -2.3437397 , -2.2446172 , -2.1454945 , -2.046372  , -1.9472493 ,\n",
              "        -1.8481266 , -1.7490041 , -1.6498815 , -1.5507588 , -1.4516363 ,\n",
              "        -1.3525137 , -1.253391  , -1.1542684 , -1.0551459 , -0.9560232 ,\n",
              "        -0.8569006 , -0.757778  , -0.6586554 , -0.55953276, -0.46041015,\n",
              "        -0.36128753, -0.26216495, -0.16304232, -0.06391972,  0.03520289,\n",
              "         0.1343255 ,  0.23344812,  0.33257073,  0.43169335,  0.53081596,\n",
              "         0.62993854,  0.7290612 ,  0.82818377,  0.9273064 ,  1.0264289 ,\n",
              "         1.1255516 ,  1.2246742 ,  1.3237969 ,  1.4229194 ,  1.522042  ,\n",
              "         1.6211647 ,  1.7202873 ,  1.8194098 ,  1.9185325 ,  2.0176551 ,\n",
              "         2.1167777 ,  2.2159004 ,  2.315023  ,  2.4141455 ,  2.5132682 ,\n",
              "         2.6123908 ,  2.7115133 ,  2.810636  ,  2.9097586 ,  3.008881  ,\n",
              "         3.1080039 ,  3.2071264 ,  3.3062491 ,  3.4053717 ,  3.5044942 ,\n",
              "         3.603617  ,  3.7027395 ,  3.801862  ,  3.9009848 ,  4.0001073 ,\n",
              "         4.09923   ,  4.1983523 ,  4.2974753 ,  4.396598  ,  4.4957204 ,\n",
              "         4.594843  ,  4.6939654 ,  4.793088  ,  4.892211  ,  4.9913335 ,\n",
              "         5.090456  ], dtype=float32),\n",
              " <a list of 100 Patch objects>)"
            ]
          },
          "metadata": {
            "tags": []
          },
          "execution_count": 23
        },
        {
          "output_type": "display_data",
          "data": {
            "image/png": "[encoded data removed]",
            "text/plain": [
              "<Figure size 864x432 with 1 Axes>"
            ]
          },
          "metadata": {
            "tags": [],
            "needs_background": "light"
          }
        }
      ]
    },
    {
      "cell_type": "code",
      "metadata": {
        "id": "QOChiPHJIjGm",
        "outputId": "f496c90f-a8a4-4de4-827c-5b3ae5c96737",
        "colab": {
          "base_uri": "https://localhost:8080/",
          "height": 734
        }
      },
      "source": [
        "import matplotlib.pyplot as plt\n",
        "rand1 = tf.random.normal([100000], 0, 1)\n",
        "rand2 = tf.random.uniform([200000], 0, 1)\n",
        "plt.hist(rand1, bins=100)\n",
        "plt.hist(rand2, bins=50)"
      ],
      "execution_count": null,
      "outputs": [
        {
          "output_type": "execute_result",
          "data": {
            "text/plain": [
              "(array([3997., 4020., 3902., 3954., 4026., 3944., 3867., 4023., 3941.,\n",
              "        4013., 3971., 3901., 4074., 4076., 4085., 3973., 4013., 4016.,\n",
              "        4085., 3838., 3999., 4119., 4032., 4044., 3973., 3966., 3960.,\n",
              "        3984., 4008., 4107., 3897., 4034., 4146., 4104., 4062., 4026.,\n",
              "        3988., 4039., 3997., 4087., 3982., 3945., 4020., 3976., 4008.,\n",
              "        3944., 3923., 3918., 3947., 4046.]),\n",
              " array([2.0265579e-06, 2.0001980e-02, 4.0001933e-02, 6.0001884e-02,\n",
              "        8.0001839e-02, 1.0000179e-01, 1.2000174e-01, 1.4000170e-01,\n",
              "        1.6000165e-01, 1.8000160e-01, 2.0000155e-01, 2.2000150e-01,\n",
              "        2.4000145e-01, 2.6000142e-01, 2.8000137e-01, 3.0000132e-01,\n",
              "        3.2000127e-01, 3.4000123e-01, 3.6000118e-01, 3.8000113e-01,\n",
              "        4.0000108e-01, 4.2000103e-01, 4.4000098e-01, 4.6000093e-01,\n",
              "        4.8000088e-01, 5.0000083e-01, 5.2000082e-01, 5.4000074e-01,\n",
              "        5.6000072e-01, 5.8000064e-01, 6.0000062e-01, 6.2000054e-01,\n",
              "        6.4000052e-01, 6.6000044e-01, 6.8000042e-01, 7.0000035e-01,\n",
              "        7.2000033e-01, 7.4000025e-01, 7.6000023e-01, 7.8000015e-01,\n",
              "        8.0000013e-01, 8.2000005e-01, 8.4000003e-01, 8.5999995e-01,\n",
              "        8.7999994e-01, 8.9999986e-01, 9.1999984e-01, 9.3999976e-01,\n",
              "        9.5999974e-01, 9.7999966e-01, 9.9999964e-01], dtype=float32),\n",
              " <a list of 50 Patch objects>)"
            ]
          },
          "metadata": {
            "tags": []
          },
          "execution_count": 24
        },
        {
          "output_type": "display_data",
          "data": {
            "image/png": "[encoded data removed]",
            "text/plain": [
              "<Figure size 864x432 with 1 Axes>"
            ]
          },
          "metadata": {
            "tags": [],
            "needs_background": "light"
          }
        }
      ]
    },
    {
      "cell_type": "code",
      "metadata": {
        "id": "gcGE8Lf6IvvG",
        "outputId": "8e57b12d-59d7-496b-8c12-4ebc8b407fbd",
        "colab": {
          "base_uri": "https://localhost:8080/",
          "height": 914
        }
      },
      "source": [
        "import matplotlib.pyplot as plt\n",
        "rand1 = tf.random.normal([1000], 0, 1)\n",
        "rand2 = tf.random.uniform([2000], 0, 1)\n",
        "\n",
        "plt.rcParams[\"figure.figsize\"] = (12, 6)\n",
        "fig, axes = plt.subplots(1, 2, sharex=True, sharey=True)\n",
        "axes[0].hist(rand1, bins=100)\n",
        "axes[1].hist(rand2, bins=100)"
      ],
      "execution_count": null,
      "outputs": [
        {
          "output_type": "execute_result",
          "data": {
            "text/plain": [
              "(array([20., 21., 16., 24., 17., 19., 21., 20., 21., 27., 14., 26., 21.,\n",
              "        17., 22., 26., 22., 24., 13., 21., 18., 23., 19., 29., 20., 30.,\n",
              "        15., 18., 14., 29., 23., 31., 24., 17., 17., 13., 24., 30.,  9.,\n",
              "        17., 17., 23., 16., 16., 22., 22., 17., 11., 18., 29., 16., 15.,\n",
              "        17., 18., 20., 17., 23., 18., 14., 16., 24., 24., 32., 16., 20.,\n",
              "        13., 15., 22., 21., 18., 26., 21., 26., 19., 18., 18., 26., 20.,\n",
              "        23., 20., 17., 20., 15., 14., 21., 23., 12., 23., 26., 26., 22.,\n",
              "        21., 16., 19., 17., 19., 20., 15., 15., 20.]),\n",
              " array([0.00132918, 0.01131057, 0.02129196, 0.03127335, 0.04125474,\n",
              "        0.05123613, 0.06121752, 0.07119892, 0.0811803 , 0.0911617 ,\n",
              "        0.10114308, 0.11112448, 0.12110586, 0.13108726, 0.14106865,\n",
              "        0.15105003, 0.16103142, 0.17101282, 0.18099421, 0.19097559,\n",
              "        0.20095699, 0.21093838, 0.22091977, 0.23090115, 0.24088255,\n",
              "        0.25086394, 0.26084533, 0.27082673, 0.28080812, 0.2907895 ,\n",
              "        0.30077088, 0.31075227, 0.32073367, 0.33071506, 0.34069645,\n",
              "        0.35067785, 0.36065924, 0.37064064, 0.380622  , 0.3906034 ,\n",
              "        0.4005848 , 0.41056618, 0.42054757, 0.43052897, 0.44051036,\n",
              "        0.45049176, 0.46047312, 0.4704545 , 0.4804359 , 0.4904173 ,\n",
              "        0.5003987 , 0.5103801 , 0.5203615 , 0.5303429 , 0.5403243 ,\n",
              "        0.55030566, 0.56028706, 0.57026845, 0.58024985, 0.5902312 ,\n",
              "        0.6002126 , 0.61019397, 0.62017536, 0.63015676, 0.64013815,\n",
              "        0.65011954, 0.66010094, 0.67008233, 0.6800637 , 0.6900451 ,\n",
              "        0.7000265 , 0.7100079 , 0.7199893 , 0.7299707 , 0.7399521 ,\n",
              "        0.7499335 , 0.7599148 , 0.7698962 , 0.7798776 , 0.789859  ,\n",
              "        0.7998404 , 0.8098218 , 0.8198032 , 0.8297846 , 0.83976597,\n",
              "        0.84974736, 0.85972875, 0.86971015, 0.87969154, 0.88967294,\n",
              "        0.8996543 , 0.9096357 , 0.91961706, 0.92959845, 0.93957984,\n",
              "        0.94956124, 0.95954263, 0.969524  , 0.9795054 , 0.9894868 ,\n",
              "        0.9994682 ], dtype=float32),\n",
              " <a list of 100 Patch objects>)"
            ]
          },
          "metadata": {
            "tags": []
          },
          "execution_count": 15
        },
        {
          "output_type": "display_data",
          "data": {
            "image/png": "[encoded data removed]",
            "text/plain": [
              "<Figure size 864x432 with 2 Axes>"
            ]
          },
          "metadata": {
            "tags": [],
            "needs_background": "light"
          }
        }
      ]
    },
    {
      "cell_type": "code",
      "metadata": {
        "id": "NwDqQ6BhJURb",
        "outputId": "e0963fe5-c89a-4ddf-f446-9a2a44054ed6",
        "colab": {
          "base_uri": "https://localhost:8080/",
          "height": 53
        }
      },
      "source": [
        "import numpy as np\n",
        "a = np.arange(10)\n",
        "print(a)\n",
        "tf.random.shuffle(a)"
      ],
      "execution_count": null,
      "outputs": [
        {
          "output_type": "stream",
          "text": [
            "[0 1 2 3 4 5 6 7 8 9]\n"
          ],
          "name": "stdout"
        },
        {
          "output_type": "execute_result",
          "data": {
            "text/plain": [
              "<tf.Tensor: shape=(10,), dtype=int64, numpy=array([9, 4, 7, 8, 0, 3, 6, 1, 5, 2])>"
            ]
          },
          "metadata": {
            "tags": []
          },
          "execution_count": 17
        }
      ]
    },
    {
      "cell_type": "code",
      "metadata": {
        "id": "l3GK8Y8zJfoH",
        "outputId": "a2592fd0-3eb8-4c83-c9d7-80638a6f8cd2",
        "colab": {
          "base_uri": "https://localhost:8080/",
          "height": 89
        }
      },
      "source": [
        "import numpy as np\n",
        "a = np.arange(20).reshape(4, 5)\n",
        "a"
      ],
      "execution_count": null,
      "outputs": [
        {
          "output_type": "execute_result",
          "data": {
            "text/plain": [
              "array([[ 0,  1,  2,  3,  4],\n",
              "       [ 5,  6,  7,  8,  9],\n",
              "       [10, 11, 12, 13, 14],\n",
              "       [15, 16, 17, 18, 19]])"
            ]
          },
          "metadata": {
            "tags": []
          },
          "execution_count": 18
        }
      ]
    },
    {
      "cell_type": "code",
      "metadata": {
        "id": "z-IrymCvJnyO",
        "outputId": "72f0f5bc-21c0-4d45-9d7c-a8229fd5e43c",
        "colab": {
          "base_uri": "https://localhost:8080/",
          "height": 107
        }
      },
      "source": [
        "tf.random.shuffle(a)"
      ],
      "execution_count": null,
      "outputs": [
        {
          "output_type": "execute_result",
          "data": {
            "text/plain": [
              "<tf.Tensor: shape=(4, 5), dtype=int64, numpy=\n",
              "array([[ 5,  6,  7,  8,  9],\n",
              "       [ 0,  1,  2,  3,  4],\n",
              "       [15, 16, 17, 18, 19],\n",
              "       [10, 11, 12, 13, 14]])>"
            ]
          },
          "metadata": {
            "tags": []
          },
          "execution_count": 19
        }
      ]
    }
  ]
}